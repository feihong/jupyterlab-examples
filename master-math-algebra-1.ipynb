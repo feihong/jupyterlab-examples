{
 "cells": [
  {
   "cell_type": "markdown",
   "id": "1352f657-2683-42b7-a53f-7cfdfa500309",
   "metadata": {},
   "source": [
    "# Exercises from Mastering Math by Coding in Python, Algebra 1\n",
    "\n",
    "https://learning.oreilly.com/videos/master-math-by/9781801074537/9781801074537-video5_2/"
   ]
  },
  {
   "cell_type": "code",
   "execution_count": 96,
   "id": "d190f0d9-6cc1-4f38-aed5-6a629e04fe2e",
   "metadata": {},
   "outputs": [],
   "source": [
    "from IPython.display import display\n",
    "import sympy as sym\n",
    "import numpy as np\n",
    "import itertools\n",
    "from sympy.abc import q\n",
    "sym.init_printing()"
   ]
  },
  {
   "cell_type": "code",
   "execution_count": 73,
   "id": "2ce8ed28-92ba-4557-83e1-58c0e5f668aa",
   "metadata": {},
   "outputs": [
    {
     "data": {
      "text/latex": [
       "$\\displaystyle - 2 q + 2 + \\frac{3}{q}$"
      ],
      "text/plain": [
       "           3\n",
       "-2⋅q + 2 + ─\n",
       "           q"
      ]
     },
     "metadata": {},
     "output_type": "display_data"
    },
    {
     "data": {
      "text/latex": [
       "$\\displaystyle - 2 q + 2 + \\frac{3}{q}$"
      ],
      "text/plain": [
       "           3\n",
       "-2⋅q + 2 + ─\n",
       "           q"
      ]
     },
     "metadata": {},
     "output_type": "display_data"
    },
    {
     "data": {
      "text/latex": [
       "$\\displaystyle \\left[ \\frac{1}{2} - \\frac{\\sqrt{7}}{2}, \\  \\frac{1}{2} + \\frac{\\sqrt{7}}{2}\\right]$"
      ],
      "text/plain": [
       "⎡1   √7  1   √7⎤\n",
       "⎢─ - ──, ─ + ──⎥\n",
       "⎣2   2   2   2 ⎦"
      ]
     },
     "metadata": {},
     "output_type": "display_data"
    }
   ],
   "source": [
    "# solving for x 1\n",
    "expr = 3*q + 4/q + 3 - (5*q + 1/q + 1)\n",
    "display(expr)\n",
    "display(expr.simplify())\n",
    "display(sym.solve(expr))"
   ]
  },
  {
   "cell_type": "code",
   "execution_count": 63,
   "id": "7998c1df-f212-4175-962d-f9960a23f795",
   "metadata": {},
   "outputs": [
    {
     "data": {
      "text/latex": [
       "$\\displaystyle 3 q^{2} + 2 q - \\frac{5}{q} - \\frac{4}{q^{3}}$"
      ],
      "text/plain": [
       "   2         5   4 \n",
       "3⋅q  + 2⋅q - ─ - ──\n",
       "             q    3\n",
       "                 q "
      ]
     },
     "metadata": {},
     "output_type": "display_data"
    },
    {
     "data": {
      "text/latex": [
       "$\\displaystyle 3 q^{2} + 2 q - \\frac{5}{q} - \\frac{4}{q^{3}}$"
      ],
      "text/plain": [
       "   2         5   4 \n",
       "3⋅q  + 2⋅q - ─ - ──\n",
       "             q    3\n",
       "                 q "
      ]
     },
     "metadata": {},
     "output_type": "display_data"
    },
    {
     "data": {
      "text/latex": [
       "$\\displaystyle \\frac{3 q^{5} + 2 q^{4} - 5 q^{2} - 4}{q^{3}}$"
      ],
      "text/plain": [
       "   5      4      2    \n",
       "3⋅q  + 2⋅q  - 5⋅q  - 4\n",
       "──────────────────────\n",
       "           3          \n",
       "          q           "
      ]
     },
     "metadata": {},
     "output_type": "display_data"
    }
   ],
   "source": [
    "# solving for x 2\n",
    "\n",
    "# hint: write sym.cancel and press shift-tab to see the docstring for the function\n",
    "\n",
    "expr = 2*q + 3*q**2 - 5/q - 4/q**3\n",
    "display(expr)\n",
    "display(expr.simplify())\n",
    "display(expr.cancel())"
   ]
  },
  {
   "cell_type": "code",
   "execution_count": 72,
   "id": "f2885677-3daa-4bc2-b39f-ff560c9149d1",
   "metadata": {},
   "outputs": [
    {
     "data": {
      "text/latex": [
       "$\\displaystyle \\frac{\\sqrt{15} q + \\sqrt{3}}{\\sqrt{10} q + \\sqrt{2}}$"
      ],
      "text/plain": [
       "√15⋅q + √3\n",
       "──────────\n",
       "√10⋅q + √2"
      ]
     },
     "metadata": {},
     "output_type": "display_data"
    },
    {
     "data": {
      "text/latex": [
       "$\\displaystyle \\frac{\\sqrt{3} + 10 \\sqrt{15}}{\\sqrt{2} + 10 \\sqrt{10}}$"
      ],
      "text/plain": [
       "√3 + 10⋅√15\n",
       "───────────\n",
       "√2 + 10⋅√10"
      ]
     },
     "metadata": {},
     "output_type": "display_data"
    },
    {
     "data": {
      "text/latex": [
       "$\\displaystyle \\frac{\\sqrt{3} + 9000 \\sqrt{15}}{\\sqrt{2} + 9000 \\sqrt{10}}$"
      ],
      "text/plain": [
       "√3 + 9000⋅√15\n",
       "─────────────\n",
       "√2 + 9000⋅√10"
      ]
     },
     "metadata": {},
     "output_type": "display_data"
    },
    {
     "data": {
      "text/latex": [
       "$\\displaystyle 1.22474487139159$"
      ],
      "text/plain": [
       "1.22474487139159"
      ]
     },
     "metadata": {},
     "output_type": "display_data"
    },
    {
     "data": {
      "text/latex": [
       "$\\displaystyle \\frac{\\sqrt{6}}{2}$"
      ],
      "text/plain": [
       "√6\n",
       "──\n",
       "2 "
      ]
     },
     "metadata": {},
     "output_type": "display_data"
    }
   ],
   "source": [
    "# solving for x 3\n",
    "expr = (sym.sqrt(3) + sym.sqrt(15)*q) / (sym.sqrt(2) + sym.sqrt(10)*q)\n",
    "display(expr)\n",
    "display(expr.subs(q, 10))\n",
    "display(expr.subs(q, 9000))\n",
    "display(expr.subs(q, 9000).evalf())\n",
    "display(expr.simplify())"
   ]
  },
  {
   "cell_type": "code",
   "execution_count": 95,
   "id": "50c50c70-7cdf-4c68-a2f5-1c646623138d",
   "metadata": {},
   "outputs": [
    {
     "data": {
      "text/latex": [
       "$\\displaystyle - x y + 2 x - 4 y + 8$"
      ],
      "text/plain": [
       "-x⋅y + 2⋅x - 4⋅y + 8"
      ]
     },
     "metadata": {},
     "output_type": "display_data"
    },
    {
     "name": "stdout",
     "output_type": "stream",
     "text": [
      "When x=0 and y=0, f(x, y)=8\n",
      "When x=0 and y=1, f(x, y)=4\n",
      "When x=0 and y=2, f(x, y)=0\n",
      "When x=1 and y=0, f(x, y)=10\n",
      "When x=1 and y=1, f(x, y)=5\n",
      "When x=1 and y=2, f(x, y)=0\n",
      "When x=2 and y=0, f(x, y)=12\n",
      "When x=2 and y=1, f(x, y)=6\n",
      "When x=2 and y=2, f(x, y)=0\n"
     ]
    }
   ],
   "source": [
    "# expanding terms\n",
    "from sympy.abc import x, y\n",
    "\n",
    "fxy = (4 + x)*(2 - y)\n",
    "display(fxy.expand())\n",
    "\n",
    "for i, j in itertools.product(range(3), repeat=2):\n",
    "    result = fxy.subs({x: i, y: j})\n",
    "    print(f'When x={i} and y={j}, f(x, y)={result}')"
   ]
  },
  {
   "cell_type": "code",
   "execution_count": 105,
   "id": "93c0459a-27f2-4ebd-a6a1-222cf9892166",
   "metadata": {},
   "outputs": [
    {
     "data": {
      "text/plain": [
       "array([[ 8.,  4.,  0.],\n",
       "       [10.,  5.,  0.],\n",
       "       [12.,  6.,  0.]])"
      ]
     },
     "metadata": {},
     "output_type": "display_data"
    },
    {
     "data": {
      "text/latex": [
       "$\\displaystyle \\left[\\begin{matrix}8.0 & 4.0 & 0.0\\\\10.0 & 5.0 & 0.0\\\\12.0 & 6.0 & 0.0\\end{matrix}\\right]$"
      ],
      "text/plain": [
       "⎡8.0   4.0  0⎤\n",
       "⎢            ⎥\n",
       "⎢10.0  5.0  0⎥\n",
       "⎢            ⎥\n",
       "⎣12.0  6.0  0⎦"
      ]
     },
     "metadata": {},
     "output_type": "display_data"
    }
   ],
   "source": [
    "# creating and accessing matrices with numpy\n",
    "A = np.zeros([3,3])\n",
    "\n",
    "for i, j in itertools.product(range(3), repeat=2):\n",
    "    A[i, j] = fxy.subs({x: i, y: j})\n",
    "\n",
    "display(A)\n",
    "display(sym.sympify(A))"
   ]
  },
  {
   "cell_type": "code",
   "execution_count": 110,
   "id": "cb9c2896-fde2-4c13-9884-776fd9338a60",
   "metadata": {},
   "outputs": [
    {
     "data": {
      "text/latex": [
       "$\\displaystyle \\left[\\begin{matrix}1 & 2 & 3 & 4 & 5 & 6 & 7 & 8 & 9 & 10\\\\2 & 4 & 6 & 8 & 10 & 12 & 14 & 16 & 18 & 20\\\\3 & 6 & 9 & 12 & 15 & 18 & 21 & 24 & 27 & 30\\\\4 & 8 & 12 & 16 & 20 & 24 & 28 & 32 & 36 & 40\\\\5 & 10 & 15 & 20 & 25 & 30 & 35 & 40 & 45 & 50\\\\6 & 12 & 18 & 24 & 30 & 36 & 42 & 48 & 54 & 60\\\\7 & 14 & 21 & 28 & 35 & 42 & 49 & 56 & 63 & 70\\\\8 & 16 & 24 & 32 & 40 & 48 & 56 & 64 & 72 & 80\\\\9 & 18 & 27 & 36 & 45 & 54 & 63 & 72 & 81 & 90\\\\10 & 20 & 30 & 40 & 50 & 60 & 70 & 80 & 90 & 100\\end{matrix}\\right]$"
      ],
      "text/plain": [
       "⎡1   2   3   4   5   6   7   8   9   10 ⎤\n",
       "⎢                                       ⎥\n",
       "⎢2   4   6   8   10  12  14  16  18  20 ⎥\n",
       "⎢                                       ⎥\n",
       "⎢3   6   9   12  15  18  21  24  27  30 ⎥\n",
       "⎢                                       ⎥\n",
       "⎢4   8   12  16  20  24  28  32  36  40 ⎥\n",
       "⎢                                       ⎥\n",
       "⎢5   10  15  20  25  30  35  40  45  50 ⎥\n",
       "⎢                                       ⎥\n",
       "⎢6   12  18  24  30  36  42  48  54  60 ⎥\n",
       "⎢                                       ⎥\n",
       "⎢7   14  21  28  35  42  49  56  63  70 ⎥\n",
       "⎢                                       ⎥\n",
       "⎢8   16  24  32  40  48  56  64  72  80 ⎥\n",
       "⎢                                       ⎥\n",
       "⎢9   18  27  36  45  54  63  72  81  90 ⎥\n",
       "⎢                                       ⎥\n",
       "⎣10  20  30  40  50  60  70  80  90  100⎦"
      ]
     },
     "metadata": {},
     "output_type": "display_data"
    }
   ],
   "source": [
    "# create a multiplication table\n",
    "A = np.zeros([10, 10], dtype=int)\n",
    "\n",
    "for i, j in itertools.product(range(10), repeat=2):\n",
    "    A[i, j] = (i+1)*(j+1)\n",
    "    \n",
    "display(sym.sympify(A))"
   ]
  }
 ],
 "metadata": {
  "kernelspec": {
   "display_name": "Python 3 (ipykernel)",
   "language": "python",
   "name": "python3"
  },
  "language_info": {
   "codemirror_mode": {
    "name": "ipython",
    "version": 3
   },
   "file_extension": ".py",
   "mimetype": "text/x-python",
   "name": "python",
   "nbconvert_exporter": "python",
   "pygments_lexer": "ipython3",
   "version": "3.10.0"
  }
 },
 "nbformat": 4,
 "nbformat_minor": 5
}
